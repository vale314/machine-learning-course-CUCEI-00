{
  "nbformat": 4,
  "nbformat_minor": 5,
  "metadata": {
    "kernelspec": {
      "display_name": "Python 3",
      "language": "python",
      "name": "python3"
    },
    "language_info": {
      "codemirror_mode": {
        "name": "ipython",
        "version": 3
      },
      "file_extension": ".py",
      "mimetype": "text/x-python",
      "name": "python",
      "nbconvert_exporter": "python",
      "pygments_lexer": "ipython3",
      "version": "3.8.10"
    },
    "colab": {
      "name": "11_areas_IA.ipynb",
      "provenance": [],
      "include_colab_link": true
    }
  },
  "cells": [
    {
      "cell_type": "markdown",
      "metadata": {
        "id": "view-in-github",
        "colab_type": "text"
      },
      "source": [
        "<a href=\"https://colab.research.google.com/github/vale314/machine-learning-course-CUCEI-00/blob/main/11_areas_IA-update.ipynb\" target=\"_parent\"><img src=\"https://colab.research.google.com/assets/colab-badge.svg\" alt=\"Open In Colab\"/></a>"
      ]
    },
    {
      "cell_type": "markdown",
      "metadata": {
        "id": "902c746e"
      },
      "source": [
        "# Análisis del texto de las Áreas de la Inteligencia Artificial"
      ],
      "id": "902c746e"
    },
    {
      "cell_type": "code",
      "metadata": {
        "colab": {
          "base_uri": "https://localhost:8080/"
        },
        "id": "3wOmrl4aQ4cA",
        "outputId": "94f04bf8-9a8d-42a6-f914-6f0dc3dd4733"
      },
      "source": [
        "from google.colab import drive\n",
        "drive.mount('/content/drive')"
      ],
      "id": "3wOmrl4aQ4cA",
      "execution_count": 3,
      "outputs": [
        {
          "output_type": "stream",
          "text": [
            "Drive already mounted at /content/drive; to attempt to forcibly remount, call drive.mount(\"/content/drive\", force_remount=True).\n"
          ],
          "name": "stdout"
        }
      ]
    },
    {
      "cell_type": "code",
      "metadata": {
        "id": "1481da2c"
      },
      "source": [
        "# Importamos los paquetes necesarios\n",
        "import pandas as pd\n",
        "import matplotlib.pyplot as plt\n",
        "\n",
        "%matplotlib inline"
      ],
      "id": "1481da2c",
      "execution_count": 4,
      "outputs": []
    },
    {
      "cell_type": "code",
      "metadata": {
        "id": "c0ae85ac"
      },
      "source": [
        "# Trabajando con una ruta relativa\n",
        "path = './drive/MyDrive/CUCEI/ML-COURSE-JUAN/' \n",
        "\n",
        "# Colocamos en una variable el archivo a trabajar\n",
        "archivo = 'AreasIA.txt'"
      ],
      "id": "c0ae85ac",
      "execution_count": 28,
      "outputs": []
    },
    {
      "cell_type": "markdown",
      "metadata": {
        "id": "763c359b"
      },
      "source": [
        "### Como verificación, se muestran los archivos actuales"
      ],
      "id": "763c359b"
    },
    {
      "cell_type": "code",
      "metadata": {
        "scrolled": true,
        "id": "ff776369"
      },
      "source": [
        "# Paquete requerido para listar los archivos del directorio\n",
        "from os import listdir"
      ],
      "id": "ff776369",
      "execution_count": 29,
      "outputs": []
    },
    {
      "cell_type": "code",
      "metadata": {
        "id": "70ab1d46"
      },
      "source": [
        "Files = []\n",
        "for File in listdir(path):\n",
        "    # Escribir la RUTA COMPLETA de cada archivo\n",
        "    Files.append(File)"
      ],
      "id": "70ab1d46",
      "execution_count": 30,
      "outputs": []
    },
    {
      "cell_type": "code",
      "metadata": {
        "colab": {
          "base_uri": "https://localhost:8080/"
        },
        "id": "578a8956",
        "outputId": "ef5c7621-f5f9-4f16-df5e-3250590acc50"
      },
      "source": [
        "# Mostramos los archivos del directorio que hemos decidido trabajar\n",
        "Files"
      ],
      "id": "578a8956",
      "execution_count": 31,
      "outputs": [
        {
          "output_type": "execute_result",
          "data": {
            "text/plain": [
              "['kc_house_data.gsheet', 'kc_house_data.csv', 'AreasIA.txt']"
            ]
          },
          "metadata": {},
          "execution_count": 31
        }
      ]
    },
    {
      "cell_type": "markdown",
      "metadata": {
        "id": "ed6e8ef0"
      },
      "source": [
        "## Trabajando con el archivo origen"
      ],
      "id": "ed6e8ef0"
    },
    {
      "cell_type": "code",
      "metadata": {
        "scrolled": true,
        "id": "7003e7c6"
      },
      "source": [
        "# Cargamos los datos a un 'dataframe'\n",
        "#df = pd.read_csv(path + 'AreasIA.txt') # Mostrará error porque las filas no tienen las mismas columnas\n",
        "#df"
      ],
      "id": "7003e7c6",
      "execution_count": 32,
      "outputs": []
    },
    {
      "cell_type": "code",
      "metadata": {
        "colab": {
          "base_uri": "https://localhost:8080/"
        },
        "id": "0d0ac712",
        "outputId": "b836bc53-9c6e-4630-adf8-993548ed2744"
      },
      "source": [
        "# Se muestra el contenido original del archivo\n",
        "with open(path + archivo, encoding='utf-8', errors='ignore') as Text:\n",
        "    # LEER el texto y mostrar \n",
        "    print(Text.read())"
      ],
      "id": "0d0ac712",
      "execution_count": 33,
      "outputs": [
        {
          "output_type": "stream",
          "text": [
            "machine learning, Redes neurales, algoritmos genéticos, recocido simulado, inversión de Occam....\n",
            "redes neuronales, ciencia de datos, machine Learning, conocimiento alrededor del bitcoin\n",
            "Machine learning, big data \n",
            "Estadística, (regresión lineal, regresión logística), deep learning, machine learning\n",
            "redes neuronales, grafos, ....\n",
            "Sistemas Expertos, Redes Neuronales, Procesamiento de lenguage natural\n",
            "CNN, redes neuronales, NPL, Vision artificial, reconocimiento de voz, explicabilidad\n",
            "redes neuronales, machine learning, deep learning, mineria de datos, vida artificial, redes bayesianas\n",
            "Vision artificial, redes neuronales, sistemas expertos, procesamiento de lenguaje\n",
            "redes neuronales, deep learning, machine learning\n",
            "Aeronáutica, fotónica, convergencia de ecuaciones, diseño de estructuras, medicina, comunicaciones, mecánica, electrónica, semiconductores, drogas, simulacion del cuerpo humano, vacunas, materiales en 2D, texto, accidentes, aeronavegabilidad, \n",
            "Machine learning, data mining, redes neuronales, redes bayesianas.\n",
            "Vision artificial, aprendizaje automático, minería de datos, clasificación automática, detección de patrones. En cuanto a herramientas: redes neuronales artificiales, SVM, random forest (solo en teoría)\n",
            "redes neuronales, machine learning, logistica difusa\n",
            "Redes neuronales, visión artificial, minería de datos,  procesamiento de lenguaje natural, machine learning\n",
            "(deep learning, machine learning, mineria de datos) solo he escuchado de esas, sin embargo no se mucho \n",
            "redes neuronales, procesamiento del lenguaje, machine learning, deep learning\n",
            "Redes Neuronales, Reconocimiento de objetos, Toma de deciciones\n",
            "maching learning,redes neuronales, mineria de datos.\n",
            "redes neuronales,  ML\n",
            "aprendizaje, supervisado, no supervisado, reforzado, profundo\n",
            "Machine Learning, minería de datos, redes neuronales\n",
            "Robotica\n",
            "deep learning, machine learning, IoT\n",
            "redes neuronales, robótica, análisis de imágenes\n",
            "natural procesive lenguaje, redes combinacionales, self driving, riego y cuidado de cultivos, optimización de trafico, detección de enfermedades . \n",
            "Machine learning, deep learning\n",
            "RedesNeuronalesArtificiales, KNN, SV,CNN\n",
            "Aprendizaje de transferencia (transfer learning), \n",
            "Minería de datos, Robótica.\n",
            "Machine Learning, Redes Neuronales, Sistemas Expertos\n",
            "neurociencia, biología evolutiva, ciencias de la computación, robótica.\n"
          ],
          "name": "stdout"
        }
      ]
    },
    {
      "cell_type": "code",
      "metadata": {
        "colab": {
          "base_uri": "https://localhost:8080/"
        },
        "id": "rLziYWZuSkOe",
        "outputId": "15f00db3-772c-40a7-fc40-f11a55946e80"
      },
      "source": [
        "import re\n",
        "\n",
        "with open(path + \"AreasIA.txt\", encoding='utf-8', errors='ignore') as Text:\n",
        "  data = Text.read().replace('\\n', '')\n",
        "\n",
        "data = data.lower() \n",
        "\n",
        "print(data)"
      ],
      "id": "rLziYWZuSkOe",
      "execution_count": 35,
      "outputs": [
        {
          "output_type": "stream",
          "text": [
            "machine learning, Redes neurales, algoritmos genéticos, recocido simulado, inversión de Occam....redes neuronales, ciencia de datos, machine Learning, conocimiento alrededor del bitcoinMachine learning, big data Estadística, (regresión lineal, regresión logística), deep learning, machine learningredes neuronales, grafos, ....Sistemas Expertos, Redes Neuronales, Procesamiento de lenguage naturalCNN, redes neuronales, NPL, Vision artificial, reconocimiento de voz, explicabilidadredes neuronales, machine learning, deep learning, mineria de datos, vida artificial, redes bayesianasVision artificial, redes neuronales, sistemas expertos, procesamiento de lenguajeredes neuronales, deep learning, machine learningAeronáutica, fotónica, convergencia de ecuaciones, diseño de estructuras, medicina, comunicaciones, mecánica, electrónica, semiconductores, drogas, simulacion del cuerpo humano, vacunas, materiales en 2D, texto, accidentes, aeronavegabilidad, Machine learning, data mining, redes neuronales, redes bayesianas.Vision artificial, aprendizaje automático, minería de datos, clasificación automática, detección de patrones. En cuanto a herramientas: redes neuronales artificiales, SVM, random forest (solo en teoría)redes neuronales, machine learning, logistica difusaRedes neuronales, visión artificial, minería de datos,  procesamiento de lenguaje natural, machine learning(deep learning, machine learning, mineria de datos) solo he escuchado de esas, sin embargo no se mucho redes neuronales, procesamiento del lenguaje, machine learning, deep learningRedes Neuronales, Reconocimiento de objetos, Toma de decicionesmaching learning,redes neuronales, mineria de datos.redes neuronales,  MLaprendizaje, supervisado, no supervisado, reforzado, profundoMachine Learning, minería de datos, redes neuronalesRoboticadeep learning, machine learning, IoTredes neuronales, robótica, análisis de imágenesnatural procesive lenguaje, redes combinacionales, self driving, riego y cuidado de cultivos, optimización de trafico, detección de enfermedades . Machine learning, deep learningRedesNeuronalesArtificiales, KNN, SV,CNNAprendizaje de transferencia (transfer learning), Minería de datos, Robótica.Machine Learning, Redes Neuronales, Sistemas Expertosneurociencia, biología evolutiva, ciencias de la computación, robótica.\n"
          ],
          "name": "stdout"
        }
      ]
    },
    {
      "cell_type": "code",
      "metadata": {
        "id": "c71a3aac"
      },
      "source": [
        "# Se utiliza una lista para agregar las áreas señaladas\n",
        "Areas = []\n",
        "\n",
        "with open(path + \"AreasIA.txt\", encoding='utf-8', errors='ignore') as Text:\n",
        "  \n",
        "    # LEER el texto y pasar todo a minúsculas y reemplazar signos de puntuación \n",
        "    Texto = Text.read().lower()\n",
        "    Texto = Texto.replace('.','').replace(':','').replace(';','').replace('-','')\n",
        "    Texto = Texto.replace('¿','').replace('?','').replace('¡','').replace('!','')\n",
        "    Texto = Texto.replace('(','').replace(')','').replace('\\n',',')\n",
        "    Texto = Texto.replace('á','a').replace('é','e').replace('í','i').replace('ó','o').replace('ú','u')\n",
        "\n",
        "    # Solo se agregan las que no sean StopWords\n",
        "    for area in Texto.split(','):\n",
        "        area = area.strip() #Elimina los espacios al principio y final de una cadena\n",
        "        if area != '': #Se valida porque el texto muestra elementos de lista vacío\n",
        "            Areas.append(area)"
      ],
      "id": "c71a3aac",
      "execution_count": null,
      "outputs": []
    },
    {
      "cell_type": "code",
      "metadata": {
        "id": "8a489a87"
      },
      "source": [
        "Areas"
      ],
      "id": "8a489a87",
      "execution_count": null,
      "outputs": []
    },
    {
      "cell_type": "code",
      "metadata": {
        "scrolled": true,
        "id": "f9d146c2"
      },
      "source": [
        "# Ahora vamos a contar las palabras creando un diccionario. \n",
        "# En este caso la clave del diccionario será el área, y el valor será el conteo\n",
        "\n",
        "diccionario_frecuencias = {}\n",
        "\n",
        "for area in Areas:\n",
        "    if area in diccionario_frecuencias:\n",
        "        diccionario_frecuencias[area] += 1\n",
        "    else:\n",
        "        diccionario_frecuencias[area] = 1\n",
        "\n",
        "for area in diccionario_frecuencias:\n",
        "    frecuencia = diccionario_frecuencias[area]\n",
        "    print(f\"El área '{area}' tiene una frecuencia de {frecuencia}\")"
      ],
      "id": "f9d146c2",
      "execution_count": null,
      "outputs": []
    },
    {
      "cell_type": "markdown",
      "metadata": {
        "id": "0dbaaece"
      },
      "source": [
        "## Generando gráficas para visualizar los datos"
      ],
      "id": "0dbaaece"
    },
    {
      "cell_type": "code",
      "metadata": {
        "id": "d81999a7"
      },
      "source": [
        "# Se grafican todas las áreas a partir del diccionario de frecuencias\n",
        "plt.figure(figsize=(15,8))\n",
        "\n",
        "plt.barh(range(len(diccionario_frecuencias)), list(diccionario_frecuencias.values()), align='center')\n",
        "plt.yticks(range(len(diccionario_frecuencias)), list(diccionario_frecuencias.keys()))\n",
        "\n",
        "#plt.savefig(\"your_file_name\"+\".png\", bbox_inches='tight')\n",
        "plt.show()\n",
        "plt.close()"
      ],
      "id": "d81999a7",
      "execution_count": null,
      "outputs": []
    },
    {
      "cell_type": "code",
      "metadata": {
        "id": "4f0280ec"
      },
      "source": [
        "# Módulo que nos permite elegir los valores más altos de un diccionario\n",
        "from heapq import nlargest \n",
        "\n",
        "sixHighest = nlargest(6, diccionario_frecuencias, key = diccionario_frecuencias.get) \n",
        "\n",
        "print(\"El diccionario con los 6 valores más altos:\") \n",
        "print(\"Llave: Valor\") \n",
        "  \n",
        "for val in sixHighest: \n",
        "    print(val, \":\", diccionario_frecuencias.get(val)) "
      ],
      "id": "4f0280ec",
      "execution_count": null,
      "outputs": []
    },
    {
      "cell_type": "code",
      "metadata": {
        "scrolled": true,
        "id": "daad7d12"
      },
      "source": [
        "# Se grafican las áreas más mencionadas\n",
        "plt.figure(figsize=(15,8))\n",
        "\n",
        "plt.bar(range(len(sixHighest)), list([diccionario_frecuencias.get(val) for val in sixHighest]), align='center')\n",
        "plt.xticks(range(len(sixHighest)), list(sixHighest))\n",
        "\n",
        "#plt.savefig(\"your_file_name\"+\".png\", bbox_inches='tight')\n",
        "plt.show()\n",
        "plt.close()"
      ],
      "id": "daad7d12",
      "execution_count": null,
      "outputs": []
    },
    {
      "cell_type": "markdown",
      "metadata": {
        "id": "9ae5c075"
      },
      "source": [
        "## Trabajemos con 'Nubes de palabras' (wordcloud)"
      ],
      "id": "9ae5c075"
    },
    {
      "cell_type": "code",
      "metadata": {
        "scrolled": false,
        "id": "a9886adb"
      },
      "source": [
        "#Convertir la lista a una cadena y generar la nube de palabras\n",
        "# Es necesario importar el módulo WordCloud\n",
        "from wordcloud import WordCloud\n",
        "\n",
        "unique_string=(\" \").join(Areas)\n",
        "wordcloud = WordCloud(width = 1000, height = 500).generate(unique_string)\n",
        "\n",
        "plt.figure(figsize=(15,8))\n",
        "plt.imshow(wordcloud)\n",
        "plt.axis(\"off\")\n",
        "\n",
        "#plt.savefig(\"your_file_name\"+\".png\", bbox_inches='tight')\n",
        "plt.show()\n",
        "plt.close()"
      ],
      "id": "a9886adb",
      "execution_count": null,
      "outputs": []
    },
    {
      "cell_type": "code",
      "metadata": {
        "id": "4e8e5526"
      },
      "source": [
        "#Generar la nube de palabras a partir de un diccionario\n",
        "\n",
        "# Si se tiene una lista y se desea crear un diccionario\n",
        "#from collections import Counter\n",
        "#Word_could_dict=Counter(my_list)\n",
        "\n",
        "Word_could_dict = diccionario_frecuencias\n",
        "wordcloud = WordCloud(width = 1000, height = 500).generate_from_frequencies(Word_could_dict)\n",
        "\n",
        "plt.figure(figsize=(15,8))\n",
        "plt.imshow(wordcloud)\n",
        "plt.axis(\"off\")\n",
        "\n",
        "#plt.savefig('yourfile.png', bbox_inches='tight')\n",
        "plt.show()\n",
        "plt.close()\n"
      ],
      "id": "4e8e5526",
      "execution_count": null,
      "outputs": []
    },
    {
      "cell_type": "markdown",
      "metadata": {
        "id": "59db98a1"
      },
      "source": [
        "### -- Fin de la actividad"
      ],
      "id": "59db98a1"
    },
    {
      "cell_type": "code",
      "metadata": {
        "id": "cada763f"
      },
      "source": [
        ""
      ],
      "id": "cada763f",
      "execution_count": null,
      "outputs": []
    }
  ]
}