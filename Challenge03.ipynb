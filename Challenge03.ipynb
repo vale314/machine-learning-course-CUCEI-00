{
  "nbformat": 4,
  "nbformat_minor": 0,
  "metadata": {
    "colab": {
      "name": "Challenge03.ipynb",
      "provenance": [],
      "authorship_tag": "ABX9TyPoDNMOjUvD/4VSlJOd8M0Q",
      "include_colab_link": true
    },
    "kernelspec": {
      "name": "python3",
      "display_name": "Python 3"
    },
    "language_info": {
      "name": "python"
    }
  },
  "cells": [
    {
      "cell_type": "markdown",
      "metadata": {
        "id": "view-in-github",
        "colab_type": "text"
      },
      "source": [
        "<a href=\"https://colab.research.google.com/github/vale314/machine-learning-course-CUCEI-00/blob/main/Challenge03.ipynb\" target=\"_parent\"><img src=\"https://colab.research.google.com/assets/colab-badge.svg\" alt=\"Open In Colab\"/></a>"
      ]
    },
    {
      "cell_type": "code",
      "metadata": {
        "colab": {
          "base_uri": "https://localhost:8080/"
        },
        "id": "-GFeRrZnXwr4",
        "outputId": "a8dfb792-8362-46e4-a571-349b75473a10"
      },
      "source": [
        "from google.colab import drive\n",
        "drive.mount('/content/drive')"
      ],
      "execution_count": 1,
      "outputs": [
        {
          "output_type": "stream",
          "name": "stdout",
          "text": [
            "Mounted at /content/drive\n"
          ]
        }
      ]
    },
    {
      "cell_type": "code",
      "metadata": {
        "id": "E4ay6jo7X4aR"
      },
      "source": [
        "# Graficos embebidos.\n",
        "%matplotlib inline"
      ],
      "execution_count": 2,
      "outputs": []
    },
    {
      "cell_type": "code",
      "metadata": {
        "id": "Myd4CwpvX8iF"
      },
      "source": [
        "import numpy as np #importando numpy\n",
        "from scipy import stats # importando scipy.stats\n",
        "import matplotlib.pyplot as plt # importando matplotlib\n",
        "import seaborn as sns # importando seaborn\n",
        "\n",
        "# parámetros estéticos de seaborn\n",
        "sns.set_palette(\"deep\", desat=.6)\n",
        "sns.set_context(rc={\"figure.figsize\": (8, 4)})"
      ],
      "execution_count": 3,
      "outputs": []
    },
    {
      "cell_type": "code",
      "metadata": {
        "id": "YERdvbmlX9C7"
      },
      "source": [
        "# Trabajando con una ruta relativa\n",
        "path = './drive/MyDrive/CUCEI/ML-COURSE-JUAN/Students/' \n",
        "\n",
        "# Colocamos en una variable el archivo a trabajar\n",
        "archivo = 'StudentsPerformance1.csv'"
      ],
      "execution_count": 4,
      "outputs": []
    },
    {
      "cell_type": "markdown",
      "metadata": {
        "id": "gHwlV55OYFbW"
      },
      "source": [
        "---\n",
        "#### Solo correr para comprobar archivos"
      ]
    },
    {
      "cell_type": "code",
      "metadata": {
        "id": "4d4yeHNiX-ZP"
      },
      "source": [
        "# Paquete requerido para listar los archivos del directorio\n",
        "from os import listdir"
      ],
      "execution_count": 5,
      "outputs": []
    },
    {
      "cell_type": "code",
      "metadata": {
        "id": "1w4-6xyrYF8Q"
      },
      "source": [
        "import pandas as pd"
      ],
      "execution_count": 6,
      "outputs": []
    },
    {
      "cell_type": "code",
      "metadata": {
        "id": "D-2XsxGgYIyh"
      },
      "source": [
        "Files = []\n",
        "for File in listdir(path):\n",
        "    # Escribir la RUTA COMPLETA de cada archivo\n",
        "    Files.append(File)"
      ],
      "execution_count": 7,
      "outputs": []
    },
    {
      "cell_type": "code",
      "metadata": {
        "colab": {
          "base_uri": "https://localhost:8080/"
        },
        "id": "83uNHRdDYJ3c",
        "outputId": "b6d5ee46-f919-41d8-ea12-26f11f8ec42d"
      },
      "source": [
        "# Mostramos los archivos del directorio que hemos decidido trabajar\n",
        "Files"
      ],
      "execution_count": 8,
      "outputs": [
        {
          "output_type": "execute_result",
          "data": {
            "text/plain": [
              "['StudentsPerformance.csv',\n",
              " 'StudentsPerformance.gsheet',\n",
              " 'StudentsPerformance1.csv']"
            ]
          },
          "metadata": {},
          "execution_count": 8
        }
      ]
    },
    {
      "cell_type": "markdown",
      "metadata": {
        "id": "E7Q9o6scYPQn"
      },
      "source": [
        "### Abrir Archivo"
      ]
    },
    {
      "cell_type": "code",
      "metadata": {
        "id": "jVHGRRwQYNhO"
      },
      "source": [
        "df = pd.read_csv(path+archivo, index_col=0)"
      ],
      "execution_count": 10,
      "outputs": []
    },
    {
      "cell_type": "markdown",
      "metadata": {
        "id": "oAr35pjcewKX"
      },
      "source": [
        "### Shape"
      ]
    },
    {
      "cell_type": "code",
      "metadata": {
        "colab": {
          "base_uri": "https://localhost:8080/"
        },
        "id": "v-8bTJoPYQyi",
        "outputId": "3fe52cae-47f6-416b-f93f-d84b15245bf3"
      },
      "source": [
        "df.shape"
      ],
      "execution_count": 12,
      "outputs": [
        {
          "output_type": "execute_result",
          "data": {
            "text/plain": [
              "(1000, 8)"
            ]
          },
          "metadata": {},
          "execution_count": 12
        }
      ]
    },
    {
      "cell_type": "markdown",
      "metadata": {
        "id": "RHTyXm_Te7no"
      },
      "source": [
        "---"
      ]
    },
    {
      "cell_type": "code",
      "metadata": {
        "colab": {
          "base_uri": "https://localhost:8080/",
          "height": 204
        },
        "id": "tXj8n7ZHZ644",
        "outputId": "84578a4b-ea76-4210-df6b-bd058d535132"
      },
      "source": [
        "df.head()"
      ],
      "execution_count": 14,
      "outputs": [
        {
          "output_type": "execute_result",
          "data": {
            "text/html": [
              "<div>\n",
              "<style scoped>\n",
              "    .dataframe tbody tr th:only-of-type {\n",
              "        vertical-align: middle;\n",
              "    }\n",
              "\n",
              "    .dataframe tbody tr th {\n",
              "        vertical-align: top;\n",
              "    }\n",
              "\n",
              "    .dataframe thead th {\n",
              "        text-align: right;\n",
              "    }\n",
              "</style>\n",
              "<table border=\"1\" class=\"dataframe\">\n",
              "  <thead>\n",
              "    <tr style=\"text-align: right;\">\n",
              "      <th></th>\n",
              "      <th>gender</th>\n",
              "      <th>race/ethnicity</th>\n",
              "      <th>parental level of education</th>\n",
              "      <th>lunch</th>\n",
              "      <th>test preparation course</th>\n",
              "      <th>math score</th>\n",
              "      <th>reading score</th>\n",
              "      <th>writing score</th>\n",
              "    </tr>\n",
              "  </thead>\n",
              "  <tbody>\n",
              "    <tr>\n",
              "      <th>NaN</th>\n",
              "      <td>female</td>\n",
              "      <td>group B</td>\n",
              "      <td>bachelor's degree</td>\n",
              "      <td>standard</td>\n",
              "      <td>none</td>\n",
              "      <td>72</td>\n",
              "      <td>72</td>\n",
              "      <td>74</td>\n",
              "    </tr>\n",
              "    <tr>\n",
              "      <th>NaN</th>\n",
              "      <td>female</td>\n",
              "      <td>group C</td>\n",
              "      <td>some college</td>\n",
              "      <td>standard</td>\n",
              "      <td>completed</td>\n",
              "      <td>69</td>\n",
              "      <td>90</td>\n",
              "      <td>88</td>\n",
              "    </tr>\n",
              "    <tr>\n",
              "      <th>NaN</th>\n",
              "      <td>female</td>\n",
              "      <td>group B</td>\n",
              "      <td>master's degree</td>\n",
              "      <td>standard</td>\n",
              "      <td>none</td>\n",
              "      <td>90</td>\n",
              "      <td>95</td>\n",
              "      <td>93</td>\n",
              "    </tr>\n",
              "    <tr>\n",
              "      <th>NaN</th>\n",
              "      <td>male</td>\n",
              "      <td>group A</td>\n",
              "      <td>associate's degree</td>\n",
              "      <td>free/reduced</td>\n",
              "      <td>none</td>\n",
              "      <td>47</td>\n",
              "      <td>57</td>\n",
              "      <td>44</td>\n",
              "    </tr>\n",
              "    <tr>\n",
              "      <th>NaN</th>\n",
              "      <td>male</td>\n",
              "      <td>group C</td>\n",
              "      <td>some college</td>\n",
              "      <td>standard</td>\n",
              "      <td>none</td>\n",
              "      <td>76</td>\n",
              "      <td>78</td>\n",
              "      <td>75</td>\n",
              "    </tr>\n",
              "  </tbody>\n",
              "</table>\n",
              "</div>"
            ],
            "text/plain": [
              "     gender race/ethnicity  ... reading score writing score\n",
              "NaN  female        group B  ...            72            74\n",
              "NaN  female        group C  ...            90            88\n",
              "NaN  female        group B  ...            95            93\n",
              "NaN    male        group A  ...            57            44\n",
              "NaN    male        group C  ...            78            75\n",
              "\n",
              "[5 rows x 8 columns]"
            ]
          },
          "metadata": {},
          "execution_count": 14
        }
      ]
    },
    {
      "cell_type": "markdown",
      "metadata": {
        "id": "RphiDEele_BB"
      },
      "source": [
        "### Revisar si hay elementos vacios"
      ]
    },
    {
      "cell_type": "code",
      "metadata": {
        "colab": {
          "base_uri": "https://localhost:8080/"
        },
        "id": "ainsqSy5Z73l",
        "outputId": "13275881-583d-4508-ab82-32d8aac061df"
      },
      "source": [
        "df.isna().sum()"
      ],
      "execution_count": 15,
      "outputs": [
        {
          "output_type": "execute_result",
          "data": {
            "text/plain": [
              "gender                         0\n",
              "race/ethnicity                 0\n",
              "parental level of education    0\n",
              "lunch                          0\n",
              "test preparation course        0\n",
              "math score                     0\n",
              "reading score                  0\n",
              "writing score                  0\n",
              "dtype: int64"
            ]
          },
          "metadata": {},
          "execution_count": 15
        }
      ]
    },
    {
      "cell_type": "markdown",
      "metadata": {
        "id": "7DxLclmufDl2"
      },
      "source": [
        "#Dividir-Datos"
      ]
    },
    {
      "cell_type": "code",
      "metadata": {
        "id": "b7d2SWjecOU4"
      },
      "source": [
        "p_train = 0.70 # Porcentaje de train.\n",
        "\n",
        "df['is_train'] = np.random.uniform(0, 1, len(df)) <= p_train\n",
        "train, test = df[df['is_train']==True], df[df['is_train']==False]\n",
        "df = df.drop('is_train', 1)"
      ],
      "execution_count": 35,
      "outputs": []
    },
    {
      "cell_type": "markdown",
      "metadata": {
        "id": "f0FrZ8lofd5E"
      },
      "source": [
        "## Revisar Cantidad De Datos"
      ]
    },
    {
      "cell_type": "code",
      "metadata": {
        "colab": {
          "base_uri": "https://localhost:8080/"
        },
        "id": "7gtD7Vl-dAr7",
        "outputId": "e171630f-94a4-4fab-8946-f181374bfa87"
      },
      "source": [
        "df.count()"
      ],
      "execution_count": 39,
      "outputs": [
        {
          "output_type": "execute_result",
          "data": {
            "text/plain": [
              "gender                         1000\n",
              "race/ethnicity                 1000\n",
              "parental level of education    1000\n",
              "lunch                          1000\n",
              "test preparation course        1000\n",
              "math score                     1000\n",
              "reading score                  1000\n",
              "writing score                  1000\n",
              "dtype: int64"
            ]
          },
          "metadata": {},
          "execution_count": 39
        }
      ]
    },
    {
      "cell_type": "markdown",
      "metadata": {
        "id": "-O14QjlrfG8Q"
      },
      "source": [
        "##70% De Trai y 30% De Test "
      ]
    },
    {
      "cell_type": "code",
      "metadata": {
        "colab": {
          "base_uri": "https://localhost:8080/"
        },
        "id": "3wzcSQOwc6xE",
        "outputId": "3644145a-f8cb-4d9d-f103-0836ad3b6350"
      },
      "source": [
        "print(\"Ejemplos usados para entrenar: \", len(train))\n",
        "print(\"Ejemplos usados para test: \", len(test))"
      ],
      "execution_count": 36,
      "outputs": [
        {
          "output_type": "stream",
          "name": "stdout",
          "text": [
            "Ejemplos usados para entrenar:  713\n",
            "Ejemplos usados para test:  287\n"
          ]
        }
      ]
    },
    {
      "cell_type": "code",
      "metadata": {
        "id": "nzEcQcoMeLyZ"
      },
      "source": [
        "train = train.drop('is_train', axis=1)\n",
        "test = test.drop('is_train', axis=1) "
      ],
      "execution_count": 37,
      "outputs": []
    },
    {
      "cell_type": "code",
      "metadata": {
        "colab": {
          "base_uri": "https://localhost:8080/"
        },
        "id": "BCdqF6NJd9uh",
        "outputId": "2df0fff5-1cf3-4f13-a3d4-71f6fb850b81"
      },
      "source": [
        "print(train)\n",
        "print(test)"
      ],
      "execution_count": 38,
      "outputs": [
        {
          "output_type": "stream",
          "name": "stdout",
          "text": [
            "     gender race/ethnicity  ... reading score writing score\n",
            "NaN  female        group B  ...            72            74\n",
            "NaN  female        group B  ...            95            93\n",
            "NaN    male        group A  ...            57            44\n",
            "NaN  female        group B  ...            95            92\n",
            "NaN    male        group B  ...            43            39\n",
            "..      ...            ...  ...           ...           ...\n",
            "NaN  female        group D  ...            72            74\n",
            "NaN    male        group A  ...            63            62\n",
            "NaN  female        group E  ...            99            95\n",
            "NaN    male        group C  ...            55            55\n",
            "NaN  female        group D  ...            86            86\n",
            "\n",
            "[713 rows x 8 columns]\n",
            "     gender race/ethnicity  ... reading score writing score\n",
            "NaN  female        group C  ...            90            88\n",
            "NaN    male        group C  ...            78            75\n",
            "NaN  female        group B  ...            83            78\n",
            "NaN  female        group B  ...            81            73\n",
            "NaN  female        group A  ...            53            58\n",
            "..      ...            ...  ...           ...           ...\n",
            "NaN    male        group D  ...            41            48\n",
            "NaN  female        group C  ...            75            82\n",
            "NaN  female        group D  ...            86            83\n",
            "NaN  female        group C  ...            71            65\n",
            "NaN  female        group D  ...            78            77\n",
            "\n",
            "[287 rows x 8 columns]\n"
          ]
        }
      ]
    },
    {
      "cell_type": "markdown",
      "metadata": {
        "id": "vP4FVW3jfmAz"
      },
      "source": [
        "#Dividir Datos 02"
      ]
    },
    {
      "cell_type": "code",
      "metadata": {
        "id": "N4TXpq5tdmoT"
      },
      "source": [
        "from sklearn.model_selection import train_test_split "
      ],
      "execution_count": 40,
      "outputs": []
    },
    {
      "cell_type": "code",
      "metadata": {
        "colab": {
          "base_uri": "https://localhost:8080/"
        },
        "id": "u0A3RoQ6dyTt",
        "outputId": "054d056f-bc8c-4e19-8f42-1cbc21a094c3"
      },
      "source": [
        "train, test = train_test_split(df, test_size = 0.30)\n",
        "\n",
        "print(\"Ejemplos usados para entrenar: \", len(train))\n",
        "print(\"Ejemplos usados para test: \", len(test))"
      ],
      "execution_count": 41,
      "outputs": [
        {
          "output_type": "stream",
          "name": "stdout",
          "text": [
            "Ejemplos usados para entrenar:  700\n",
            "Ejemplos usados para test:  300\n"
          ]
        }
      ]
    },
    {
      "cell_type": "code",
      "metadata": {
        "colab": {
          "base_uri": "https://localhost:8080/"
        },
        "id": "9C0jKtUtd0PI",
        "outputId": "59a37401-8ce8-439d-d5d6-3cb78630dd18"
      },
      "source": [
        "print(train)"
      ],
      "execution_count": 42,
      "outputs": [
        {
          "output_type": "stream",
          "name": "stdout",
          "text": [
            "     gender race/ethnicity  ... reading score writing score\n",
            "NaN    male        group C  ...            90            91\n",
            "NaN  female        group D  ...            90            88\n",
            "NaN    male        group B  ...            61            57\n",
            "NaN    male        group D  ...            52            51\n",
            "NaN  female        group C  ...            62            60\n",
            "..      ...            ...  ...           ...           ...\n",
            "NaN  female        group C  ...            74            77\n",
            "NaN    male        group C  ...            67            58\n",
            "NaN    male        group B  ...            71            69\n",
            "NaN  female        group C  ...            62            61\n",
            "NaN    male        group A  ...            82            73\n",
            "\n",
            "[700 rows x 8 columns]\n"
          ]
        }
      ]
    },
    {
      "cell_type": "code",
      "metadata": {
        "colab": {
          "base_uri": "https://localhost:8080/"
        },
        "id": "dgMPy02Cd6fo",
        "outputId": "a6656c3d-8ba4-49cd-8ede-1a332975aade"
      },
      "source": [
        "print(test)"
      ],
      "execution_count": 43,
      "outputs": [
        {
          "output_type": "stream",
          "name": "stdout",
          "text": [
            "     gender race/ethnicity  ... reading score writing score\n",
            "NaN    male        group E  ...            81            79\n",
            "NaN  female        group E  ...            65            69\n",
            "NaN    male        group B  ...            84            86\n",
            "NaN  female        group C  ...            66            64\n",
            "NaN    male        group B  ...            48            49\n",
            "..      ...            ...  ...           ...           ...\n",
            "NaN  female        group C  ...            80            83\n",
            "NaN    male        group D  ...            62            64\n",
            "NaN  female        group E  ...            68            68\n",
            "NaN  female        group D  ...           100           100\n",
            "NaN  female        group C  ...            73            68\n",
            "\n",
            "[300 rows x 8 columns]\n"
          ]
        }
      ]
    },
    {
      "cell_type": "code",
      "metadata": {
        "id": "QUOxVXSJd8B3"
      },
      "source": [
        ""
      ],
      "execution_count": null,
      "outputs": []
    }
  ]
}