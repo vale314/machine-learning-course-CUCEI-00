{
  "nbformat": 4,
  "nbformat_minor": 0,
  "metadata": {
    "colab": {
      "name": "Challenge03.1.ipynb",
      "provenance": [],
      "collapsed_sections": [],
      "authorship_tag": "ABX9TyMzOrvOX6X8RMX6SNcAwyrU",
      "include_colab_link": true
    },
    "kernelspec": {
      "name": "python3",
      "display_name": "Python 3"
    },
    "language_info": {
      "name": "python"
    }
  },
  "cells": [
    {
      "cell_type": "markdown",
      "metadata": {
        "id": "view-in-github",
        "colab_type": "text"
      },
      "source": [
        "<a href=\"https://colab.research.google.com/github/vale314/machine-learning-course-CUCEI-00/blob/main/Challenge03_1.ipynb\" target=\"_parent\"><img src=\"https://colab.research.google.com/assets/colab-badge.svg\" alt=\"Open In Colab\"/></a>"
      ]
    },
    {
      "cell_type": "code",
      "metadata": {
        "colab": {
          "base_uri": "https://localhost:8080/"
        },
        "id": "pTPugyHw5hy2",
        "outputId": "ada0e229-3480-417c-83e3-d0cf6835e0d5"
      },
      "source": [
        "from google.colab import drive\n",
        "drive.mount('/content/drive')"
      ],
      "execution_count": null,
      "outputs": [
        {
          "output_type": "stream",
          "name": "stdout",
          "text": [
            "Mounted at /content/drive\n"
          ]
        }
      ]
    },
    {
      "cell_type": "code",
      "metadata": {
        "id": "HGk3xZ5J50qk"
      },
      "source": [
        "# Graficos embebidos.\n",
        "%matplotlib inline"
      ],
      "execution_count": null,
      "outputs": []
    },
    {
      "cell_type": "code",
      "metadata": {
        "id": "a6lVU7Kd55Y9"
      },
      "source": [
        "import numpy as np #importando numpy\n",
        "from scipy import stats # importando scipy.stats\n",
        "import matplotlib.pyplot as plt # importando matplotlib\n",
        "import seaborn as sns # importando seaborn\n",
        "\n",
        "# parámetros estéticos de seaborn\n",
        "sns.set_palette(\"deep\", desat=.6)\n",
        "sns.set_context(rc={\"figure.figsize\": (8, 4)})"
      ],
      "execution_count": null,
      "outputs": []
    },
    {
      "cell_type": "code",
      "metadata": {
        "id": "ZB6GvxzR56DI"
      },
      "source": [
        "# Trabajando con una ruta relativa\n",
        "path = './drive/MyDrive/CUCEI/ML-COURSE-JUAN/' \n",
        "\n",
        "# Colocamos en una variable el archivo a trabajar\n",
        "archivo = 'AreasIA.txt'"
      ],
      "execution_count": null,
      "outputs": []
    },
    {
      "cell_type": "code",
      "metadata": {
        "id": "P1w5z5Gc5-Ew"
      },
      "source": [
        "# Paquete requerido para listar los archivos del directorio\n",
        "from os import listdir"
      ],
      "execution_count": null,
      "outputs": []
    },
    {
      "cell_type": "code",
      "metadata": {
        "id": "qluco7N56CRS"
      },
      "source": [
        "import pandas as pd"
      ],
      "execution_count": null,
      "outputs": []
    },
    {
      "cell_type": "code",
      "metadata": {
        "id": "N5HBYIIi6CfR"
      },
      "source": [
        "Files = []\n",
        "for File in listdir(path):\n",
        "    # Escribir la RUTA COMPLETA de cada archivo\n",
        "    Files.append(File)"
      ],
      "execution_count": null,
      "outputs": []
    },
    {
      "cell_type": "code",
      "metadata": {
        "colab": {
          "base_uri": "https://localhost:8080/"
        },
        "id": "bvvvz5OQ6DVX",
        "outputId": "f352fc2a-f5e6-4fc0-b79e-783559827974"
      },
      "source": [
        "# Mostramos los archivos del directorio que hemos decidido trabajar\n",
        "Files"
      ],
      "execution_count": null,
      "outputs": [
        {
          "output_type": "execute_result",
          "data": {
            "text/plain": [
              "['kc_house_data.gsheet',\n",
              " 'kc_house_data.csv',\n",
              " 'AreasIA.txt',\n",
              " 'Covid',\n",
              " 'Students']"
            ]
          },
          "metadata": {},
          "execution_count": 21
        }
      ]
    },
    {
      "cell_type": "markdown",
      "metadata": {
        "id": "1ri3e4Bh6q5L"
      },
      "source": [
        "## Install Unicode"
      ]
    },
    {
      "cell_type": "code",
      "metadata": {
        "colab": {
          "base_uri": "https://localhost:8080/"
        },
        "id": "EsPTEGqR6Eqi",
        "outputId": "5dfaaaef-3b9b-4931-e3f5-16a1ba7e6831"
      },
      "source": [
        "!pip install unidecode"
      ],
      "execution_count": null,
      "outputs": [
        {
          "output_type": "stream",
          "name": "stdout",
          "text": [
            "Requirement already satisfied: unidecode in /usr/local/lib/python3.7/dist-packages (1.2.0)\n"
          ]
        }
      ]
    },
    {
      "cell_type": "markdown",
      "metadata": {
        "id": "N8AQAQD46wgF"
      },
      "source": [
        "### Usaremos Unicode para mantener el estandar de nuestro texto sin remplazo pensando en cada caso, de esta manera se realiza de forma auto"
      ]
    },
    {
      "cell_type": "code",
      "metadata": {
        "id": "kRHWKkMk6MSU"
      },
      "source": [
        "import time\n",
        "# import required module\n",
        "import unidecode\n",
        "import re"
      ],
      "execution_count": null,
      "outputs": []
    },
    {
      "cell_type": "markdown",
      "metadata": {
        "id": "zpmpZB9a7cij"
      },
      "source": [
        "### Eliminar los caracteres especiales Mejorado"
      ]
    },
    {
      "cell_type": "code",
      "metadata": {
        "colab": {
          "base_uri": "https://localhost:8080/"
        },
        "id": "vUqY94Z36NXg",
        "outputId": "fbe3e57d-3ca5-41ef-8f57-240ca84ee24b"
      },
      "source": [
        "start = time.time()\n",
        "\n",
        "with open(path + archivo, encoding='utf-8', errors='ignore') as Text:\n",
        "  data = Text.read().replace('\\n', '').lower()\n",
        "\n",
        "\n",
        "# remove ascents\n",
        "outputString = unidecode.unidecode(data)\n",
        "\n",
        "outputString = re.sub(r'\\([^)]*\\)', '', outputString)\n",
        "outputString = outputString.replace('.',\"\")\n",
        "\n",
        "letter_list = outputString.split(\",\")\n",
        "\n",
        "letter_list = [x.strip() for x in letter_list]\n",
        "\n",
        "end = time.time()\n",
        "print(end - start)"
      ],
      "execution_count": null,
      "outputs": [
        {
          "output_type": "stream",
          "name": "stdout",
          "text": [
            "0.36363935470581055\n"
          ]
        }
      ]
    },
    {
      "cell_type": "markdown",
      "metadata": {
        "id": "VhQnK6TZ7ngZ"
      },
      "source": [
        "### Eliminar Caracteres Original"
      ]
    },
    {
      "cell_type": "code",
      "metadata": {
        "colab": {
          "base_uri": "https://localhost:8080/"
        },
        "id": "xMS4Hp8I6OU1",
        "outputId": "be3ab0ca-edd0-4c6a-c89c-bede6bffbd05"
      },
      "source": [
        "start = time.time()\n",
        "\n",
        "# Se utiliza una lista para agregar las áreas señaladas\n",
        "Areas = []\n",
        "\n",
        "with open(path + \"/AreasIA.txt\", encoding='utf-8', errors='ignore') as Text:\n",
        "    # LEER el texto y pasar todo a minúsculas y reemplazar signos de puntuación \n",
        "    Texto = Text.read().lower()\n",
        "    Texto = Texto.replace('.','').replace(':','').replace(';','').replace('-','')\n",
        "    Texto = Texto.replace('¿','').replace('?','').replace('¡','').replace('!','')\n",
        "    Texto = Texto.replace('(','').replace(')','').replace('\\n',',')\n",
        "    Texto = Texto.replace('á','a').replace('é','e').replace('í','i').replace('ó','o').replace('ú','u')\n",
        "\n",
        "    # Solo se agregan las que no sean StopWords\n",
        "    for area in Texto.split(','):\n",
        "        area = area.strip() #Elimina los espacios al principio y final de una cadena\n",
        "        if area != '': #Se valida porque el texto muestra elementos de lista vacío\n",
        "            Areas.append(area)\n",
        "\n",
        "end = time.time()\n",
        "print(end - start)"
      ],
      "execution_count": null,
      "outputs": [
        {
          "output_type": "stream",
          "name": "stdout",
          "text": [
            "0.001665353775024414\n"
          ]
        }
      ]
    },
    {
      "cell_type": "markdown",
      "metadata": {
        "id": "UPgKJPK77vyZ"
      },
      "source": [
        "## Diccionario de frecuencias (Originan)"
      ]
    },
    {
      "cell_type": "code",
      "metadata": {
        "colab": {
          "base_uri": "https://localhost:8080/"
        },
        "id": "6575qLxi6dQF",
        "outputId": "53d64b12-debb-428f-b840-a1065e28b57c"
      },
      "source": [
        "# Ahora vamos a contar las palabras creando un diccionario. \n",
        "# En este caso la clave del diccionario será el área, y el valor será el conteo\n",
        "\n",
        "start = time.time()\n",
        "\n",
        "diccionario_frecuencias = {}\n",
        "\n",
        "for area in Areas:\n",
        "    if area in diccionario_frecuencias:\n",
        "        diccionario_frecuencias[area] += 1\n",
        "    else:\n",
        "        diccionario_frecuencias[area] = 1\n",
        "\n",
        "for area in diccionario_frecuencias:\n",
        "    frecuencia = diccionario_frecuencias[area]\n",
        "    print(f\"El área '{area}' tiene una frecuencia de {frecuencia}\")\n",
        "  \n",
        "end = time.time()\n",
        "\n",
        "print(end - start)"
      ],
      "execution_count": null,
      "outputs": [
        {
          "output_type": "stream",
          "name": "stdout",
          "text": [
            "El área 'machine learning' tiene una frecuencia de 15\n",
            "El área 'redes neurales' tiene una frecuencia de 1\n",
            "El área 'algoritmos geneticos' tiene una frecuencia de 1\n",
            "El área 'recocido simulado' tiene una frecuencia de 1\n",
            "El área 'inversion de occam' tiene una frecuencia de 1\n",
            "El área 'redes neuronales' tiene una frecuencia de 17\n",
            "El área 'ciencia de datos' tiene una frecuencia de 1\n",
            "El área 'conocimiento alrededor del bitcoin' tiene una frecuencia de 1\n",
            "El área 'big data' tiene una frecuencia de 1\n",
            "El área 'estadistica' tiene una frecuencia de 1\n",
            "El área 'regresion lineal' tiene una frecuencia de 1\n",
            "El área 'regresion logistica' tiene una frecuencia de 1\n",
            "El área 'deep learning' tiene una frecuencia de 7\n",
            "El área 'grafos' tiene una frecuencia de 1\n",
            "El área 'sistemas expertos' tiene una frecuencia de 3\n",
            "El área 'procesamiento de lenguage natural' tiene una frecuencia de 1\n",
            "El área 'cnn' tiene una frecuencia de 2\n",
            "El área 'npl' tiene una frecuencia de 1\n",
            "El área 'vision artificial' tiene una frecuencia de 4\n",
            "El área 'reconocimiento de voz' tiene una frecuencia de 1\n",
            "El área 'explicabilidad' tiene una frecuencia de 1\n",
            "El área 'mineria de datos' tiene una frecuencia de 6\n",
            "El área 'vida artificial' tiene una frecuencia de 1\n",
            "El área 'redes bayesianas' tiene una frecuencia de 2\n",
            "El área 'procesamiento de lenguaje' tiene una frecuencia de 1\n",
            "El área 'aeronautica' tiene una frecuencia de 1\n",
            "El área 'fotonica' tiene una frecuencia de 1\n",
            "El área 'convergencia de ecuaciones' tiene una frecuencia de 1\n",
            "El área 'diseño de estructuras' tiene una frecuencia de 1\n",
            "El área 'medicina' tiene una frecuencia de 1\n",
            "El área 'comunicaciones' tiene una frecuencia de 1\n",
            "El área 'mecanica' tiene una frecuencia de 1\n",
            "El área 'electronica' tiene una frecuencia de 1\n",
            "El área 'semiconductores' tiene una frecuencia de 1\n",
            "El área 'drogas' tiene una frecuencia de 1\n",
            "El área 'simulacion del cuerpo humano' tiene una frecuencia de 1\n",
            "El área 'vacunas' tiene una frecuencia de 1\n",
            "El área 'materiales en 2d' tiene una frecuencia de 1\n",
            "El área 'texto' tiene una frecuencia de 1\n",
            "El área 'accidentes' tiene una frecuencia de 1\n",
            "El área 'aeronavegabilidad' tiene una frecuencia de 1\n",
            "El área 'data mining' tiene una frecuencia de 1\n",
            "El área 'aprendizaje automatico' tiene una frecuencia de 1\n",
            "El área 'clasificacion automatica' tiene una frecuencia de 1\n",
            "El área 'deteccion de patrones en cuanto a herramientas redes neuronales artificiales' tiene una frecuencia de 1\n",
            "El área 'svm' tiene una frecuencia de 1\n",
            "El área 'random forest solo en teoria' tiene una frecuencia de 1\n",
            "El área 'logistica difusa' tiene una frecuencia de 1\n",
            "El área 'procesamiento de lenguaje natural' tiene una frecuencia de 1\n",
            "El área 'mineria de datos solo he escuchado de esas' tiene una frecuencia de 1\n",
            "El área 'sin embargo no se mucho' tiene una frecuencia de 1\n",
            "El área 'procesamiento del lenguaje' tiene una frecuencia de 1\n",
            "El área 'reconocimiento de objetos' tiene una frecuencia de 1\n",
            "El área 'toma de deciciones' tiene una frecuencia de 1\n",
            "El área 'maching learning' tiene una frecuencia de 1\n",
            "El área 'ml' tiene una frecuencia de 1\n",
            "El área 'aprendizaje' tiene una frecuencia de 1\n",
            "El área 'supervisado' tiene una frecuencia de 1\n",
            "El área 'no supervisado' tiene una frecuencia de 1\n",
            "El área 'reforzado' tiene una frecuencia de 1\n",
            "El área 'profundo' tiene una frecuencia de 1\n",
            "El área 'robotica' tiene una frecuencia de 4\n",
            "El área 'iot' tiene una frecuencia de 1\n",
            "El área 'analisis de imagenes' tiene una frecuencia de 1\n",
            "El área 'natural procesive lenguaje' tiene una frecuencia de 1\n",
            "El área 'redes combinacionales' tiene una frecuencia de 1\n",
            "El área 'self driving' tiene una frecuencia de 1\n",
            "El área 'riego y cuidado de cultivos' tiene una frecuencia de 1\n",
            "El área 'optimizacion de trafico' tiene una frecuencia de 1\n",
            "El área 'deteccion de enfermedades' tiene una frecuencia de 1\n",
            "El área 'redesneuronalesartificiales' tiene una frecuencia de 1\n",
            "El área 'knn' tiene una frecuencia de 1\n",
            "El área 'sv' tiene una frecuencia de 1\n",
            "El área 'aprendizaje de transferencia transfer learning' tiene una frecuencia de 1\n",
            "El área 'neurociencia' tiene una frecuencia de 1\n",
            "El área 'biologia evolutiva' tiene una frecuencia de 1\n",
            "El área 'ciencias de la computacion' tiene una frecuencia de 1\n",
            "0.008323907852172852\n"
          ]
        }
      ]
    },
    {
      "cell_type": "markdown",
      "metadata": {
        "id": "8Z6DkrHf76BW"
      },
      "source": [
        "### MEJORADO"
      ]
    },
    {
      "cell_type": "code",
      "metadata": {
        "colab": {
          "base_uri": "https://localhost:8080/"
        },
        "id": "IkJR2q2b6e1i",
        "outputId": "876a9dc4-d64e-41ec-ffbe-4b9a145462b1"
      },
      "source": [
        "from collections import Counter\n",
        "\n",
        "start = time.time()\n",
        "\n",
        "areasKeys = Counter(Areas).keys()\n",
        "areasValues = Counter(Areas).values()\n",
        "\n",
        "end = time.time()\n",
        "\n",
        "print(areasKeys)\n",
        "print(areasValues)\n",
        "\n",
        "print(end - start)"
      ],
      "execution_count": null,
      "outputs": [
        {
          "output_type": "stream",
          "name": "stdout",
          "text": [
            "dict_keys(['machine learning', 'redes neurales', 'algoritmos geneticos', 'recocido simulado', 'inversion de occam', 'redes neuronales', 'ciencia de datos', 'conocimiento alrededor del bitcoin', 'big data', 'estadistica', 'regresion lineal', 'regresion logistica', 'deep learning', 'grafos', 'sistemas expertos', 'procesamiento de lenguage natural', 'cnn', 'npl', 'vision artificial', 'reconocimiento de voz', 'explicabilidad', 'mineria de datos', 'vida artificial', 'redes bayesianas', 'procesamiento de lenguaje', 'aeronautica', 'fotonica', 'convergencia de ecuaciones', 'diseño de estructuras', 'medicina', 'comunicaciones', 'mecanica', 'electronica', 'semiconductores', 'drogas', 'simulacion del cuerpo humano', 'vacunas', 'materiales en 2d', 'texto', 'accidentes', 'aeronavegabilidad', 'data mining', 'aprendizaje automatico', 'clasificacion automatica', 'deteccion de patrones en cuanto a herramientas redes neuronales artificiales', 'svm', 'random forest solo en teoria', 'logistica difusa', 'procesamiento de lenguaje natural', 'mineria de datos solo he escuchado de esas', 'sin embargo no se mucho', 'procesamiento del lenguaje', 'reconocimiento de objetos', 'toma de deciciones', 'maching learning', 'ml', 'aprendizaje', 'supervisado', 'no supervisado', 'reforzado', 'profundo', 'robotica', 'iot', 'analisis de imagenes', 'natural procesive lenguaje', 'redes combinacionales', 'self driving', 'riego y cuidado de cultivos', 'optimizacion de trafico', 'deteccion de enfermedades', 'redesneuronalesartificiales', 'knn', 'sv', 'aprendizaje de transferencia transfer learning', 'neurociencia', 'biologia evolutiva', 'ciencias de la computacion'])\n",
            "dict_values([15, 1, 1, 1, 1, 17, 1, 1, 1, 1, 1, 1, 7, 1, 3, 1, 2, 1, 4, 1, 1, 6, 1, 2, 1, 1, 1, 1, 1, 1, 1, 1, 1, 1, 1, 1, 1, 1, 1, 1, 1, 1, 1, 1, 1, 1, 1, 1, 1, 1, 1, 1, 1, 1, 1, 1, 1, 1, 1, 1, 1, 4, 1, 1, 1, 1, 1, 1, 1, 1, 1, 1, 1, 1, 1, 1, 1])\n",
            "0.00021791458129882812\n"
          ]
        }
      ]
    },
    {
      "cell_type": "markdown",
      "metadata": {
        "id": "t25Dojll8GR2"
      },
      "source": [
        "## Multiproceso (Concurrency)"
      ]
    },
    {
      "cell_type": "code",
      "metadata": {
        "id": "fMFcpluP6i4S"
      },
      "source": [
        "from multiprocessing import Process\n",
        "import concurrent.futures"
      ],
      "execution_count": null,
      "outputs": []
    },
    {
      "cell_type": "code",
      "metadata": {
        "colab": {
          "base_uri": "https://localhost:8080/"
        },
        "id": "efosKPA16j5n",
        "outputId": "a83896b9-3839-4a33-b4eb-6d5163456c14"
      },
      "source": [
        "# Ahora vamos a contar las palabras creando un diccionario. \n",
        "# En este caso la clave del diccionario será el área, y el valor será el conteo\n",
        "\n",
        "start = time.time()\n",
        "\n",
        "diccionario_frecuencias = {}\n",
        "\n",
        "def iterate(area):\n",
        "  if area in diccionario_frecuencias:\n",
        "        diccionario_frecuencias[area] += 1\n",
        "  else:\n",
        "        diccionario_frecuencias[area] = 1\n",
        "\n",
        "#processes = []\n",
        "\n",
        "with concurrent.futures.ProcessPoolExecutor() as executor:\n",
        "  results = [executor.submit(iterate(area)) for area in Areas]\n",
        "\n",
        "# for area in Areas:\n",
        "#   proces = Process(target=iterate(area))\n",
        "#   proces.start()\n",
        "#   process.join()\n",
        "\n",
        "for area in diccionario_frecuencias:\n",
        "    frecuencia = diccionario_frecuencias[area]\n",
        "    #print(f\"El área '{area}' tiene una frecuencia de {frecuencia}\")\n",
        "  \n",
        "end = time.time()\n",
        "\n",
        "print(end - start)"
      ],
      "execution_count": null,
      "outputs": [
        {
          "output_type": "stream",
          "name": "stdout",
          "text": [
            "0.057329416275024414\n"
          ]
        }
      ]
    },
    {
      "cell_type": "code",
      "metadata": {
        "id": "McNAWoMN6k7S"
      },
      "source": [
        ""
      ],
      "execution_count": null,
      "outputs": []
    }
  ]
}